{
 "cells": [
  {
   "cell_type": "code",
   "execution_count": 1,
   "metadata": {
    "ExecuteTime": {
     "end_time": "2017-03-04T20:33:33.002523",
     "start_time": "2017-03-04T20:33:32.957760"
    },
    "collapsed": false,
    "run_control": {
     "frozen": false,
     "read_only": false
    }
   },
   "outputs": [],
   "source": [
    "import requests\n",
    "import re\n",
    "import json\n",
    "\n",
    "house_file = '/Users/oliver/Documents/wikipedia_house.html'\n",
    "senate_file = '/Users/oliver/Documents/wikipedia_senate.html'"
   ]
  },
  {
   "cell_type": "code",
   "execution_count": 2,
   "metadata": {
    "ExecuteTime": {
     "end_time": "2017-03-04T20:33:33.438729",
     "start_time": "2017-03-04T20:33:33.421510"
    },
    "collapsed": false
   },
   "outputs": [],
   "source": [
    "# parse html to build congress member dictionaries\n",
    "\n",
    "house = ''\n",
    "senate = ''\n",
    "\n",
    "with open(house_file) as d:\n",
    "    house = ''.join(d.readlines())\n",
    "    \n",
    "with open(senate_file) as d:\n",
    "    senate = ''.join(d.readlines())\n",
    "    \n",
    "house = re.findall(r'<span class=\"fn\">(.*?)</a></span>', house, re.DOTALL)\n",
    "senate = re.findall(r'<span class=\"fn\">(.*?)</a></span>', senate, re.DOTALL)\n",
    "\n",
    "house_info = []\n",
    "senate_info = []\n",
    "\n",
    "for x in house:\n",
    "    wiki = x.split('<a href=\"')[1].split('\" title')[0]\n",
    "    name = x.split('\">')[1]\n",
    "    house_info.append({ 'url': wiki, 'name': name})\n",
    "    \n",
    "for x in senate:\n",
    "    wiki = x.split('<a href=\"')[1].split('\" title')[0]\n",
    "    name = x.split('\">')[1]\n",
    "    senate_info.append({ 'url': wiki, 'name': name})"
   ]
  },
  {
   "cell_type": "code",
   "execution_count": 3,
   "metadata": {
    "ExecuteTime": {
     "end_time": "2017-03-04T20:33:34.829915",
     "start_time": "2017-03-04T20:33:34.818523"
    },
    "collapsed": true
   },
   "outputs": [],
   "source": [
    "def crawl(url):\n",
    "    full_url = 'http://en.wikipedia.org' + url\n",
    "    text = requests.get(full_url).text\n",
    "    text = text.encode('utf-8')\n",
    "    text = re.sub(\"\\xe2\\x80\\x93\", \"-\", text)\n",
    "    text = re.sub('\\[[0-9]\\]', '', text)\n",
    "    try:\n",
    "        intro = text.split('infobox vcard')[1].split('</table>')[1].split('<div id=\"toc\"')[0]\n",
    "    except Exception:\n",
    "        return ''\n",
    "    notag = re.sub(\"<.*?>\", \" \", intro).strip()\n",
    "    notag = notag.replace('\\n', '')\n",
    "    notag = notag.replace(\" \\'s\", \"'s\")\n",
    "    notag = notag.replace('   ', \" \")\n",
    "    notag = notag.replace('  ', \" \")\n",
    "    notag = notag.replace('  ', \" \")\n",
    "    notag = notag.replace(\" .\", \".\")\n",
    "    notag = notag.strip()\n",
    "    return notag"
   ]
  },
  {
   "cell_type": "code",
   "execution_count": 4,
   "metadata": {
    "ExecuteTime": {
     "end_time": "2017-03-04T20:35:22.977411",
     "start_time": "2017-03-04T20:33:35.459807"
    },
    "collapsed": false
   },
   "outputs": [],
   "source": [
    "# crawl congress member wikipedia pages\n",
    "\n",
    "for i in range(0, len(senate_info) - 1):\n",
    "    url = senate_info[i]['url']\n",
    "    text = crawl(url)\n",
    "    row = { 'name': senate_info[i]['name'], 'url': senate_info[i]['url'], 'biography': text}\n",
    "    senate_info[i] = row\n",
    "    \n",
    "for i in range(0, len(house_info) - 1):\n",
    "    url = house_info[i]['url']\n",
    "    text = crawl(url)\n",
    "    row = { 'name': house_info[i]['name'], 'url': house_info[i]['url'], 'biography': text}\n",
    "    house_info[i] = row"
   ]
  },
  {
   "cell_type": "code",
   "execution_count": 5,
   "metadata": {
    "ExecuteTime": {
     "end_time": "2017-03-04T20:36:31.779931",
     "start_time": "2017-03-04T20:36:31.768604"
    },
    "collapsed": true
   },
   "outputs": [],
   "source": [
    "# write to text file\n",
    "\n",
    "json.dump(senate_info, open(\"senate_biographies.txt\",'w'))\n",
    "json.dump(house_info, open(\"house_biographies.txt\",'w'))"
   ]
  },
  {
   "cell_type": "code",
   "execution_count": null,
   "metadata": {
    "collapsed": true
   },
   "outputs": [],
   "source": []
  }
 ],
 "metadata": {
  "hide_input": false,
  "kernelspec": {
   "display_name": "Python 2",
   "language": "python",
   "name": "python2"
  },
  "language_info": {
   "codemirror_mode": {
    "name": "ipython",
    "version": 2
   },
   "file_extension": ".py",
   "mimetype": "text/x-python",
   "name": "python",
   "nbconvert_exporter": "python",
   "pygments_lexer": "ipython2",
   "version": "2.7.10"
  }
 },
 "nbformat": 4,
 "nbformat_minor": 0
}
